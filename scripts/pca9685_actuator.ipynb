{
 "cells": [
  {
   "cell_type": "markdown",
   "id": "6de57f35",
   "metadata": {},
   "source": [
    "## Simple Test:\n",
    "Duty cycle PWM signal on the 0th channel."
   ]
  },
  {
   "cell_type": "code",
   "execution_count": 1,
   "id": "779a3773",
   "metadata": {},
   "outputs": [],
   "source": [
    "import busio\n",
    "from board import SCL, SDA\n",
    "from adafruit_pca9685 import PCA9685"
   ]
  },
  {
   "cell_type": "code",
   "execution_count": 2,
   "id": "5d77bdca",
   "metadata": {
    "scrolled": true
   },
   "outputs": [
    {
     "name": "stdout",
     "output_type": "stream",
     "text": [
      "Opening bus...\n",
      "Device opened: <_io.FileIO name='/dev/i2c-1' mode='rb+' closefd=True>\n"
     ]
    }
   ],
   "source": [
    "i2c_bus = busio.I2C(SCL, SDA)\n",
    "pca = PCA9685(i2c_bus)\n",
    "pca.frequency = 60"
   ]
  },
  {
   "cell_type": "code",
   "execution_count": 11,
   "id": "a9a3bd7c",
   "metadata": {},
   "outputs": [],
   "source": [
    "# 0xffff: always high; 0x7fff: half high; 0: always low\n",
    "pca.channels[3].duty_cycle = 0xffff"
   ]
  },
  {
   "cell_type": "markdown",
   "id": "c75c4113",
   "metadata": {},
   "source": []
  },
  {
   "cell_type": "code",
   "execution_count": 12,
   "id": "ec030c1c",
   "metadata": {},
   "outputs": [],
   "source": [
    "pca.channels[3].duty_cycle = 0"
   ]
  },
  {
   "cell_type": "markdown",
   "id": "45188d9f",
   "metadata": {},
   "source": [
    "## Calibration"
   ]
  },
  {
   "cell_type": "code",
   "execution_count": 11,
   "id": "57aa8884",
   "metadata": {},
   "outputs": [
    {
     "name": "stdout",
     "output_type": "stream",
     "text": [
      "Opening bus...\n",
      "Device opened: <_io.FileIO name='/dev/i2c-1' mode='rb+' closefd=True>\n",
      "Press enter when ready to measure default frequency.\n",
      "Running with default calibration\n",
      "Frequency measured: 100\n",
      "\n",
      "Press enter when ready to measure coarse calibration frequency.\n",
      "Frequency measured: 100\n",
      "\n",
      "Real reference clock speed: 24985600\n"
     ]
    }
   ],
   "source": [
    "# SPDX-FileCopyrightText: 2021 ladyada for Adafruit Industries\n",
    "# SPDX-License-Identifier: MIT\n",
    "\n",
    "# This advanced example can be used to compute a more precise reference_clock_speed. Use an\n",
    "# oscilloscope or logic analyzer to measure the signal frequency and type the results into the\n",
    "# prompts. At the end it'll give you a more precise value around 25 mhz for your reference clock\n",
    "# speed.\n",
    "\n",
    "\n",
    "import time\n",
    "\n",
    "from board import SCL, SDA\n",
    "import busio\n",
    "\n",
    "# Import the PCA9685 module.\n",
    "from adafruit_pca9685 import PCA9685\n",
    "\n",
    "# Create the I2C bus interface.\n",
    "i2c_bus = busio.I2C(SCL, SDA)\n",
    "\n",
    "# Create a simple PCA9685 class instance.\n",
    "pca = PCA9685(i2c_bus)\n",
    "\n",
    "# Set the PWM frequency to 100hz.\n",
    "pca.frequency = 100\n",
    "\n",
    "input(\"Press enter when ready to measure default frequency.\")\n",
    "\n",
    "# Set the PWM duty cycle for channel zero to 50%. duty_cycle is 16 bits to match other PWM objects\n",
    "# but the PCA9685 will only actually give 12 bits of resolution.\n",
    "print(\"Running with default calibration\")\n",
    "pca.channels[0].duty_cycle = 0x7FFF\n",
    "time.sleep(1)\n",
    "pca.channels[0].duty_cycle = 0\n",
    "\n",
    "measured_frequency = float(input(\"Frequency measured: \"))\n",
    "print()\n",
    "\n",
    "pca.reference_clock_speed = pca.reference_clock_speed * (\n",
    "    measured_frequency / pca.frequency\n",
    ")\n",
    "# Set frequency again so we can get closer. Reading it back will produce the real value.\n",
    "pca.frequency = 100\n",
    "\n",
    "input(\"Press enter when ready to measure coarse calibration frequency.\")\n",
    "pca.channels[0].duty_cycle = 0x7FFF\n",
    "time.sleep(1)\n",
    "pca.channels[0].duty_cycle = 0\n",
    "measured_after_calibration = float(input(\"Frequency measured: \"))\n",
    "print()\n",
    "\n",
    "reference_clock_speed = measured_after_calibration * 4096 * pca.prescale_reg\n",
    "\n",
    "print(\"Real reference clock speed: {0:.0f}\".format(reference_clock_speed))"
   ]
  },
  {
   "cell_type": "code",
   "execution_count": 5,
   "id": "96b9516e",
   "metadata": {},
   "outputs": [
    {
     "name": "stdout",
     "output_type": "stream",
     "text": [
      "Opening bus...\n",
      "Device opened: <_io.FileIO name='/dev/i2c-1' mode='rb+' closefd=True>\n"
     ]
    }
   ],
   "source": [
    "# SPDX-FileCopyrightText: 2021 ladyada for Adafruit Industries\n",
    "# SPDX-License-Identifier: MIT\n",
    "\n",
    "import time\n",
    "\n",
    "from board import SCL, SDA\n",
    "import busio\n",
    "\n",
    "# Import the PCA9685 module. Available in the bundle and here:\n",
    "#   https://github.com/adafruit/Adafruit_CircuitPython_PCA9685\n",
    "from adafruit_motor import servo\n",
    "from adafruit_pca9685 import PCA9685\n",
    "\n",
    "i2c = busio.I2C(SCL, SDA)\n",
    "\n",
    "# Create a simple PCA9685 class instance.\n",
    "pca = PCA9685(i2c)\n",
    "# You can optionally provide a finer tuned reference clock speed to improve the accuracy of the\n",
    "# timing pulses. This calibration will be specific to each board and its environment. See the\n",
    "# calibration.py example in the PCA9685 driver.\n",
    "# pca = PCA9685(i2c, reference_clock_speed=25630710)\n",
    "pca.frequency = 50\n",
    "\n",
    "# To get the full range of the servo you will likely need to adjust the min_pulse and max_pulse to\n",
    "# match the stall points of the servo.\n",
    "# This is an example for the Sub-micro servo: https://www.adafruit.com/product/2201\n",
    "# servo7 = servo.Servo(pca.channels[7], min_pulse=580, max_pulse=2350)\n",
    "# This is an example for the Micro Servo - High Powered, High Torque Metal Gear:\n",
    "#   https://www.adafruit.com/product/2307\n",
    "# servo7 = servo.Servo(pca.channels[7], min_pulse=500, max_pulse=2600)\n",
    "# This is an example for the Standard servo - TowerPro SG-5010 - 5010:\n",
    "#   https://www.adafruit.com/product/155\n",
    "# servo7 = servo.Servo(pca.channels[7], min_pulse=400, max_pulse=2400)\n",
    "# This is an example for the Analog Feedback Servo: https://www.adafruit.com/product/1404\n",
    "# servo7 = servo.Servo(pca.channels[7], min_pulse=600, max_pulse=2500)\n",
    "# This is an example for the Micro servo - TowerPro SG-92R: https://www.adafruit.com/product/169\n",
    "# servo7 = servo.Servo(pca.channels[7], min_pulse=500, max_pulse=2400)\n",
    "\n",
    "# The pulse range is 750 - 2250 by default. This range typically gives 135 degrees of\n",
    "# range, but the default is to use 180 degrees. You can specify the expected range if you wish:\n",
    "# servo7 = servo.Servo(pca.channels[7], actuation_range=135)\n",
    "servo7 = servo.Servo(pca.channels[15])\n",
    "\n",
    "# We sleep in the loops to give the servo time to move into position.\n",
    "for i in range(180):\n",
    "    servo7.angle = i\n",
    "    time.sleep(0.03)\n",
    "for i in range(180):\n",
    "    servo7.angle = 180 - i\n",
    "    time.sleep(0.03)\n",
    "\n",
    "# You can also specify the movement fractionally.\n",
    "fraction = 0.0\n",
    "while fraction < 1.0:\n",
    "    servo7.fraction = fraction\n",
    "    fraction += 0.01\n",
    "    time.sleep(0.03)\n",
    "\n",
    "pca.deinit()"
   ]
  },
  {
   "cell_type": "code",
   "execution_count": 47,
   "id": "9d449a4c",
   "metadata": {},
   "outputs": [],
   "source": [
    "import busio\n",
    "import time\n",
    "from board import SCL, SDA\n",
    "from adafruit_pca9685 import PCA9685\n",
    "\n",
    "speed_hex_max = 0xFFFF\n",
    "clock_wise = \"clock_wise\"\n",
    "anti_clock_wise = \"anti_clock_wise\"\n",
    "\n",
    "class PCA_Motor:\n",
    "    \"\"\" Basic motor behaviours. \"\"\"\n",
    "    \n",
    "    def __init__(self, channels, frequency=60):\n",
    "        self.i2c_bus = busio.I2C(SCL, SDA)\n",
    "        self.pca = PCA9685(i2c_bus)\n",
    "        self.pca.frequency = frequency\n",
    "        self.channels = channels\n",
    "        self.rotation = None\n",
    "        \n",
    "    def rotate(self, speed):\n",
    "        if speed < -1 or speed > 1:\n",
    "            raise ValueError(\"invalid speed '%d', should between 0 and 1\" %speed)\n",
    "        \n",
    "        self.safe_check(speed)\n",
    "        \n",
    "        if speed >= 0:\n",
    "            speed = int(speed*speed_hex_max)\n",
    "            pca.channels[self.channels[\"channel_clockwise\"]].duty_cycle = speed\n",
    "            self.rotation = clock_wise\n",
    "            print(\"self.rotation\", self.rotation)\n",
    "        elif speed < 0:\n",
    "            speed = int(abs(speed)*speed_hex_max)\n",
    "            pca.channels[self.channels[\"channel_anti_clockwise\"]].duty_cycle = speed\n",
    "            self.rotation = anti_clock_wise\n",
    "            print(\"self.rotation\", self.rotation)\n",
    "        \n",
    "    def stop(self):\n",
    "        for channel in self.channels:\n",
    "            pca.channels[self.channels[channel]].duty_cycle = 0\n",
    "        self.rotation = None\n",
    "        \n",
    "    def safe_check(self, speed):\n",
    "        if (speed > 0 and self.rotation == anti_clock_wise) or (speed < 0 and self.rotation == clock_wise):\n",
    "            self.stop()\n",
    "            print(\"sleeping...\")\n",
    "            time.sleep(1)"
   ]
  },
  {
   "cell_type": "code",
   "execution_count": 18,
   "id": "f7fed0ab",
   "metadata": {},
   "outputs": [],
   "source": [
    "channels = {\"channel_clockwise\":0, \"channel_anti_clockwise\":1}"
   ]
  },
  {
   "cell_type": "code",
   "execution_count": 48,
   "id": "a9d9f698",
   "metadata": {},
   "outputs": [
    {
     "name": "stdout",
     "output_type": "stream",
     "text": [
      "Opening bus...\n",
      "Device opened: <_io.FileIO name='/dev/i2c-1' mode='rb+' closefd=True>\n"
     ]
    }
   ],
   "source": [
    "motor = PCA_Motor(channels)"
   ]
  },
  {
   "cell_type": "code",
   "execution_count": 51,
   "id": "12dea52d",
   "metadata": {},
   "outputs": [
    {
     "name": "stdout",
     "output_type": "stream",
     "text": [
      "sleeping...\n",
      "self.rotation clock_wise\n"
     ]
    }
   ],
   "source": [
    "motor.rotate(1)"
   ]
  },
  {
   "cell_type": "code",
   "execution_count": 53,
   "id": "c1e8bb83",
   "metadata": {},
   "outputs": [],
   "source": [
    "motor.stop()"
   ]
  },
  {
   "cell_type": "code",
   "execution_count": 52,
   "id": "33efbc5e",
   "metadata": {},
   "outputs": [
    {
     "name": "stdout",
     "output_type": "stream",
     "text": [
      "sleeping...\n",
      "self.rotation anti_clock_wise\n"
     ]
    }
   ],
   "source": [
    "motor.rotate(-1)"
   ]
  },
  {
   "cell_type": "code",
   "execution_count": 104,
   "id": "47434c09",
   "metadata": {},
   "outputs": [],
   "source": [
    "class Chassis:\n",
    "    \"\"\"Class for basic motor motion and keyboard control behaviour. \"\"\"\n",
    "    \n",
    "    def __init__(self):\n",
    "        self.left_channels = {\"channel_clockwise\":0, \"channel_anti_clockwise\":1}\n",
    "        self.right_channels = {\"channel_clockwise\":2, \"channel_anti_clockwise\":3}\n",
    "        self.left_motor = PCA_Motor(self.left_channels)\n",
    "        self.right_motor = PCA_Motor(self.right_channels)\n",
    "        self.gear_speed_map_f = {1: 0.4, 2: 0.7, 3: 1}\n",
    "        self.gear_speed_map_b = {-1: -0.25, -2: -0.5}\n",
    "        \n",
    "    def forward(self, gear):\n",
    "        if gear not in self.gear_speed_map_f:\n",
    "            raise ValueError(\"invalid gear '%d'\" %gear)\n",
    "        \n",
    "        speed = self.gear_speed_map_f[gear]\n",
    "        self.left_motor.rotate(-speed)\n",
    "        self.right_motor.rotate(speed)\n",
    "    \n",
    "    def backward(self, gear):\n",
    "        if gear not in self.gear_speed_map_b:\n",
    "            raise ValueError(\"invalid gear '%d'\" %gear)\n",
    "        \n",
    "        speed = self.gear_speed_map_b[gear]\n",
    "        self.left_motor.rotate(-speed)\n",
    "        self.right_motor.rotate(speed)\n",
    "        \n",
    "    def turn_right(self, gear):\n",
    "        if gear in self.gear_speed_map_f:\n",
    "            speed_left = self.gear_speed_map_f[gear]\n",
    "            speed_right = 0.5*self.gear_speed_map_f[gear]\n",
    "            \n",
    "            self.left_motor.rotate(-speed_left)\n",
    "            self.right_motor.rotate(speed_right)\n",
    "            \n",
    "        elif gear in gear_speed_map_b:\n",
    "            speed_left = 0.5*self.gear_speed_map_b[gear]\n",
    "            speed_right = self.gear_speed_map_b[gear]\n",
    "            \n",
    "            self.left_motor.rotate(-speed_left)\n",
    "            self.right_motor.rotate(speed_right)\n",
    "        \n",
    "    def turn_left(self, gear):\n",
    "        if gear in self.gear_speed_map_f:\n",
    "            speed_left = 0.5*self.gear_speed_map_f[gear]\n",
    "            speed_right = self.gear_speed_map_f[gear]\n",
    "            \n",
    "            self.left_motor.rotate(-speed_left)\n",
    "            self.right_motor.rotate(speed_right)\n",
    "            \n",
    "        elif gear in self.gear_speed_map_b:\n",
    "            speed_left = self.gear_speed_map_b[gear]\n",
    "            speed_right = 0.5*self.gear_speed_map_b[gear]\n",
    "            \n",
    "            self.left_motor.rotate(-speed_left)\n",
    "            self.right_motor.rotate(speed_right)\n",
    "    \n",
    "    def spin_clockwise(self):\n",
    "        speed_left = 1\n",
    "        speed_right = -1\n",
    "        self.left_motor.rotate(-speed_left)\n",
    "        self.right_motor.rotate(speed_right)\n",
    "    \n",
    "    def spin_anti_clockwise(self):\n",
    "        speed_left = -1\n",
    "        speed_right = 1\n",
    "        self.left_motor.rotate(-speed_left)\n",
    "        self.right_motor.rotate(speed_right)\n",
    "    \n",
    "    def stop(self):\n",
    "        self.left_motor.stop()\n",
    "        self.right_motor.stop()"
   ]
  },
  {
   "cell_type": "code",
   "execution_count": 105,
   "id": "3f6ae4c8",
   "metadata": {},
   "outputs": [
    {
     "name": "stdout",
     "output_type": "stream",
     "text": [
      "Opening bus...\n",
      "Device opened: <_io.FileIO name='/dev/i2c-1' mode='rb+' closefd=True>\n",
      "Opening bus...\n",
      "Device opened: <_io.FileIO name='/dev/i2c-1' mode='rb+' closefd=True>\n"
     ]
    }
   ],
   "source": [
    "c = Chassis()"
   ]
  },
  {
   "cell_type": "code",
   "execution_count": 112,
   "id": "b8592826",
   "metadata": {},
   "outputs": [
    {
     "name": "stdout",
     "output_type": "stream",
     "text": [
      "self.rotation clock_wise\n",
      "self.rotation clock_wise\n"
     ]
    }
   ],
   "source": [
    "c.spin_anti_clockwise()"
   ]
  },
  {
   "cell_type": "code",
   "execution_count": 113,
   "id": "9ffed66b",
   "metadata": {},
   "outputs": [],
   "source": [
    "c.stop()"
   ]
  },
  {
   "cell_type": "code",
   "execution_count": null,
   "id": "83eb7aec",
   "metadata": {},
   "outputs": [],
   "source": []
  }
 ],
 "metadata": {
  "kernelspec": {
   "display_name": "Python 3 (ipykernel)",
   "language": "python",
   "name": "python3"
  },
  "language_info": {
   "codemirror_mode": {
    "name": "ipython",
    "version": 3
   },
   "file_extension": ".py",
   "mimetype": "text/x-python",
   "name": "python",
   "nbconvert_exporter": "python",
   "pygments_lexer": "ipython3",
   "version": "3.9.2"
  }
 },
 "nbformat": 4,
 "nbformat_minor": 5
}
